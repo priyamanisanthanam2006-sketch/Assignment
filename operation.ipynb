{
 "cells": [
  {
   "cell_type": "markdown",
   "id": "ba1cb449-b68d-4b23-80a3-abeb1ecb64a5",
   "metadata": {},
   "source": [
    "# Operation on list"
   ]
  },
  {
   "cell_type": "markdown",
   "id": "c11d641b-7d89-4478-b8f0-dc6646d71a42",
   "metadata": {},
   "source": [
    "#### Create a List"
   ]
  },
  {
   "cell_type": "code",
   "execution_count": 2,
   "id": "c2707e32-48b1-4adc-9705-70341d9167b7",
   "metadata": {},
   "outputs": [
    {
     "name": "stdout",
     "output_type": "stream",
     "text": [
      "Created List: [5, 15, 25, 35, 45]\n"
     ]
    }
   ],
   "source": [
    "my_list = [5, 15, 25, 35, 45]\n",
    "print(\"Created List:\", my_list)"
   ]
  },
  {
   "cell_type": "markdown",
   "id": "b4fd45da-8ec5-4e94-af2d-8e2042c5977d",
   "metadata": {},
   "source": [
    "#### Append an Element"
   ]
  },
  {
   "cell_type": "code",
   "execution_count": 4,
   "id": "c974cbc7-3d11-4dd1-8fe9-0ce93966ef51",
   "metadata": {},
   "outputs": [
    {
     "name": "stdout",
     "output_type": "stream",
     "text": [
      "After Append: [5, 15, 25, 35, 45, 55]\n"
     ]
    }
   ],
   "source": [
    "my_list.append(55)\n",
    "print(\"After Append:\", my_list)"
   ]
  },
  {
   "cell_type": "markdown",
   "id": "080aac6a-2198-4aea-9fb9-74c22e898d37",
   "metadata": {},
   "source": [
    "#### Insert an Element at a Specific Position"
   ]
  },
  {
   "cell_type": "code",
   "execution_count": 8,
   "id": "7efccb04-dd26-4cb0-b1d7-a4ab88c1407e",
   "metadata": {},
   "outputs": [
    {
     "name": "stdout",
     "output_type": "stream",
     "text": [
      "After Insert: [5, 12, 12, 15, 25, 35, 45, 55]\n"
     ]
    }
   ],
   "source": [
    "my_list.insert(1, 12)  \n",
    "print(\"After Insert:\", my_list)"
   ]
  },
  {
   "cell_type": "markdown",
   "id": "639b38a2-c03b-4b67-bffc-571b0e951297",
   "metadata": {},
   "source": [
    "#### Remove an Element"
   ]
  },
  {
   "cell_type": "code",
   "execution_count": 9,
   "id": "3f7f93e9-c8f3-407f-a86c-edff84778fd6",
   "metadata": {},
   "outputs": [
    {
     "name": "stdout",
     "output_type": "stream",
     "text": [
      "After Remove: [5, 12, 12, 15, 25, 45, 55]\n"
     ]
    }
   ],
   "source": [
    "my_list.remove(35)\n",
    "print(\"After Remove:\", my_list)"
   ]
  },
  {
   "cell_type": "markdown",
   "id": "f4a0d9d5-fe56-463b-9952-78ac412c35d5",
   "metadata": {},
   "source": [
    "#### Reverse the List"
   ]
  },
  {
   "cell_type": "code",
   "execution_count": 11,
   "id": "e4624b18-00e7-47ee-bb8d-28633c566d1f",
   "metadata": {},
   "outputs": [
    {
     "name": "stdout",
     "output_type": "stream",
     "text": [
      "After Reverse: [55, 45, 25, 15, 12, 12, 5]\n"
     ]
    }
   ],
   "source": [
    "my_list.reverse()\n",
    "print(\"After Reverse:\", my_list)"
   ]
  },
  {
   "cell_type": "markdown",
   "id": "48e49397-25ca-4985-96e5-3d91d1bfaf2d",
   "metadata": {},
   "source": [
    "# Operation on tuple"
   ]
  },
  {
   "cell_type": "markdown",
   "id": "e969112c-8d7e-47ae-b78d-c207c038d449",
   "metadata": {},
   "source": [
    "#### Create a Tuple"
   ]
  },
  {
   "cell_type": "code",
   "execution_count": 13,
   "id": "b6ecda2f-60bf-478d-82a6-ccd1d32b5991",
   "metadata": {},
   "outputs": [
    {
     "name": "stdout",
     "output_type": "stream",
     "text": [
      "Created Tuple: (100, 200, 300, 400, 500)\n"
     ]
    }
   ],
   "source": [
    "my_tuple = (100, 200, 300, 400, 500)\n",
    "print(\"Created Tuple:\", my_tuple)"
   ]
  },
  {
   "cell_type": "markdown",
   "id": "d1db3f44-0de1-4580-8e62-1255350048df",
   "metadata": {},
   "source": [
    "#### Access an Element"
   ]
  },
  {
   "cell_type": "code",
   "execution_count": 15,
   "id": "a43b05c1-0a78-4248-9642-545fba4856da",
   "metadata": {},
   "outputs": [
    {
     "name": "stdout",
     "output_type": "stream",
     "text": [
      "Element at index 2: 300\n"
     ]
    }
   ],
   "source": [
    "print(\"Element at index 2:\", my_tuple[2])"
   ]
  },
  {
   "cell_type": "markdown",
   "id": "0c186ccc-404b-4cfc-9c45-e8afce7f3b71",
   "metadata": {},
   "source": [
    "#### Concatenate Tuples"
   ]
  },
  {
   "cell_type": "code",
   "execution_count": 17,
   "id": "0c628ed2-8e5b-484c-a1ca-9587086fc0c4",
   "metadata": {},
   "outputs": [
    {
     "name": "stdout",
     "output_type": "stream",
     "text": [
      "After Concatenation: (100, 200, 300, 400, 500, 600, 700)\n"
     ]
    }
   ],
   "source": [
    "new_tuple = my_tuple + (600, 700)\n",
    "print(\"After Concatenation:\", new_tuple)"
   ]
  },
  {
   "cell_type": "markdown",
   "id": "76435cf1-06b5-4578-8c15-09328459d706",
   "metadata": {},
   "source": [
    "#### Repeat the Tuple"
   ]
  },
  {
   "cell_type": "code",
   "execution_count": 19,
   "id": "5359dc30-7b3e-4cbb-ab0b-0c701b62f62c",
   "metadata": {},
   "outputs": [
    {
     "name": "stdout",
     "output_type": "stream",
     "text": [
      "After Repetition: (100, 200, 300, 400, 500, 100, 200, 300, 400, 500)\n"
     ]
    }
   ],
   "source": [
    "repeat_tuple = my_tuple * 2\n",
    "print(\"After Repetition:\", repeat_tuple)"
   ]
  },
  {
   "cell_type": "markdown",
   "id": "22ea2c01-e7c5-40ef-a9e7-9873b638916a",
   "metadata": {},
   "source": [
    "#### Find Maximum Value"
   ]
  },
  {
   "cell_type": "code",
   "execution_count": 21,
   "id": "4e2e56d7-00fb-4d11-8611-192ac4ccec6b",
   "metadata": {},
   "outputs": [
    {
     "name": "stdout",
     "output_type": "stream",
     "text": [
      "Maximum Value in Tuple: 500\n"
     ]
    }
   ],
   "source": [
    "print(\"Maximum Value in Tuple:\", max(my_tuple))"
   ]
  },
  {
   "cell_type": "markdown",
   "id": "7eb3d064-4583-4592-9369-37cb741450ca",
   "metadata": {},
   "source": [
    "# Operration on set"
   ]
  },
  {
   "cell_type": "markdown",
   "id": "84d0caaa-3f05-45e7-8393-72f8f25596a0",
   "metadata": {},
   "source": [
    "#### Create a Set"
   ]
  },
  {
   "cell_type": "code",
   "execution_count": 22,
   "id": "99ba8f54-6b07-41d8-ac0d-518a59846584",
   "metadata": {},
   "outputs": [
    {
     "name": "stdout",
     "output_type": "stream",
     "text": [
      "Created Set: {50, 20, 40, 10, 30}\n"
     ]
    }
   ],
   "source": [
    "my_set = {10, 20, 30, 40, 50}\n",
    "print(\"Created Set:\", my_set)"
   ]
  },
  {
   "cell_type": "markdown",
   "id": "97d5f120-fef0-4f82-b9a3-ecbf259b2825",
   "metadata": {},
   "source": [
    "#### Add an Element"
   ]
  },
  {
   "cell_type": "code",
   "execution_count": 23,
   "id": "588d7a41-5709-42c7-8ebc-130f7d9b7bf8",
   "metadata": {},
   "outputs": [
    {
     "name": "stdout",
     "output_type": "stream",
     "text": [
      "After Add: {50, 20, 40, 10, 60, 30}\n"
     ]
    }
   ],
   "source": [
    "my_set.add(60)\n",
    "print(\"After Add:\", my_set)"
   ]
  },
  {
   "cell_type": "markdown",
   "id": "4e1e6e4c-4bac-4859-b130-8745e6fd4f1f",
   "metadata": {},
   "source": [
    "#### Remove an Element"
   ]
  },
  {
   "cell_type": "code",
   "execution_count": 24,
   "id": "ecdf4502-de72-4abb-92f9-9e08a272bb00",
   "metadata": {},
   "outputs": [
    {
     "name": "stdout",
     "output_type": "stream",
     "text": [
      "After Remove: {50, 20, 40, 10, 60}\n"
     ]
    }
   ],
   "source": [
    "my_set.remove(30)\n",
    "print(\"After Remove:\", my_set)"
   ]
  },
  {
   "cell_type": "markdown",
   "id": "a660585a-1c0c-485f-94f5-6af315525530",
   "metadata": {},
   "source": [
    "#### Union of Sets"
   ]
  },
  {
   "cell_type": "code",
   "execution_count": 25,
   "id": "46f12af5-6e5c-4957-bac3-f6f5ed120bb2",
   "metadata": {},
   "outputs": [
    {
     "name": "stdout",
     "output_type": "stream",
     "text": [
      "After Union: {80, 50, 20, 90, 70, 40, 10, 60}\n"
     ]
    }
   ],
   "source": [
    "new_set = {70, 80, 90}\n",
    "union_set = my_set.union(new_set)\n",
    "print(\"After Union:\", union_set)"
   ]
  },
  {
   "cell_type": "markdown",
   "id": "a6ce9f14-abd8-4f4e-a0ff-14635a3748be",
   "metadata": {},
   "source": [
    "####  Intersection of Sets"
   ]
  },
  {
   "cell_type": "code",
   "execution_count": 26,
   "id": "21edf871-c10f-4df7-9c91-2cca0b6deec4",
   "metadata": {},
   "outputs": [
    {
     "name": "stdout",
     "output_type": "stream",
     "text": [
      "After Intersection: {40, 50, 60}\n"
     ]
    }
   ],
   "source": [
    "inter_set = my_set.intersection({40, 50, 60, 100})\n",
    "print(\"After Intersection:\", inter_set)"
   ]
  },
  {
   "cell_type": "markdown",
   "id": "d7dcf44e-1715-451c-8bd5-ca5d85c0ccbd",
   "metadata": {},
   "source": [
    "# Operation on dictionary"
   ]
  },
  {
   "cell_type": "markdown",
   "id": "86aaae7c-46ad-41b9-8fb9-d0ff999f6a01",
   "metadata": {},
   "source": [
    "#### Create a Dictionary"
   ]
  },
  {
   "cell_type": "code",
   "execution_count": 2,
   "id": "75754f89-cd85-4635-b524-3e64aaf803c7",
   "metadata": {},
   "outputs": [
    {
     "name": "stdout",
     "output_type": "stream",
     "text": [
      "Created Dictionary: {'id': 1240110121060, 'name': 'priya', 'course': 'CSE'}\n"
     ]
    }
   ],
   "source": [
    "my_dict = {\"id\": 1240110121060, \"name\": \"priya\", \"course\": \"CSE\"}\n",
    "print(\"Created Dictionary:\", my_dict)"
   ]
  },
  {
   "cell_type": "markdown",
   "id": "51a50696-58d5-4e91-92a6-7ce964cfe794",
   "metadata": {},
   "source": [
    "#### Add a New Key-Value Pair"
   ]
  },
  {
   "cell_type": "code",
   "execution_count": 3,
   "id": "1940ed04-be16-415f-ac86-12a92169e109",
   "metadata": {},
   "outputs": [
    {
     "name": "stdout",
     "output_type": "stream",
     "text": [
      "After Adding: {'id': 1240110121060, 'name': 'priya', 'course': 'CSE', 'year': 2025}\n"
     ]
    }
   ],
   "source": [
    "my_dict[\"year\"] = 2025\n",
    "print(\"After Adding:\", my_dict)"
   ]
  },
  {
   "cell_type": "markdown",
   "id": "b54c25b9-67e0-4f83-921a-49cf4758bdea",
   "metadata": {},
   "source": [
    "#### Update a Value"
   ]
  },
  {
   "cell_type": "code",
   "execution_count": 4,
   "id": "beec0fcb-0f21-4e71-810b-55b1b2835090",
   "metadata": {},
   "outputs": [
    {
     "name": "stdout",
     "output_type": "stream",
     "text": [
      "After Update: {'id': 1240110121060, 'name': 'kayal', 'course': 'CSE', 'year': 2025}\n"
     ]
    }
   ],
   "source": [
    "my_dict[\"name\"] = \"kayal\"\n",
    "print(\"After Update:\", my_dict)"
   ]
  },
  {
   "cell_type": "markdown",
   "id": "f15c4e7e-5a00-47a2-8525-45ced165c9e3",
   "metadata": {},
   "source": [
    "#### Remove a Key-Value Pair"
   ]
  },
  {
   "cell_type": "code",
   "execution_count": 5,
   "id": "db0b582e-be37-40a0-a35b-c0a87a77fe40",
   "metadata": {},
   "outputs": [
    {
     "name": "stdout",
     "output_type": "stream",
     "text": [
      "After Remove: {'id': 1240110121060, 'name': 'kayal', 'year': 2025}\n"
     ]
    }
   ],
   "source": [
    "my_dict.pop(\"course\")\n",
    "print(\"After Remove:\", my_dict)"
   ]
  },
  {
   "cell_type": "markdown",
   "id": "05940b31-3d90-4f00-92e2-c1773e0b7d34",
   "metadata": {},
   "source": [
    "#### Get All Keys"
   ]
  },
  {
   "cell_type": "code",
   "execution_count": 6,
   "id": "5bf9708b-d442-429a-addc-d154b01ca99b",
   "metadata": {},
   "outputs": [
    {
     "name": "stdout",
     "output_type": "stream",
     "text": [
      "All Keys: dict_keys(['id', 'name', 'year'])\n"
     ]
    }
   ],
   "source": [
    "print(\"All Keys:\", my_dict.keys())"
   ]
  }
 ],
 "metadata": {
  "kernelspec": {
   "display_name": "Python 3 (ipykernel)",
   "language": "python",
   "name": "python3"
  },
  "language_info": {
   "codemirror_mode": {
    "name": "ipython",
    "version": 3
   },
   "file_extension": ".py",
   "mimetype": "text/x-python",
   "name": "python",
   "nbconvert_exporter": "python",
   "pygments_lexer": "ipython3",
   "version": "3.13.5"
  }
 },
 "nbformat": 4,
 "nbformat_minor": 5
}
